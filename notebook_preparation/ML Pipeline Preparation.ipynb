{
 "cells": [
  {
   "cell_type": "markdown",
   "metadata": {},
   "source": [
    "# ML Pipeline Preparation\n",
    "Follow the instructions below to help you create your ML pipeline.\n",
    "### 1. Import libraries and load data from database.\n",
    "- Import Python libraries\n",
    "- Load dataset from database with [`read_sql_table`](https://pandas.pydata.org/pandas-docs/stable/generated/pandas.read_sql_table.html)\n",
    "- Define feature and target variables X and Y"
   ]
  },
  {
   "cell_type": "code",
   "execution_count": 214,
   "metadata": {},
   "outputs": [
    {
     "name": "stdout",
     "output_type": "stream",
     "text": [
      "[nltk_data] Downloading package punkt to /root/nltk_data...\n",
      "[nltk_data]   Package punkt is already up-to-date!\n",
      "[nltk_data] Downloading package stopwords to /root/nltk_data...\n",
      "[nltk_data]   Package stopwords is already up-to-date!\n",
      "[nltk_data] Downloading package wordnet to /root/nltk_data...\n",
      "[nltk_data]   Package wordnet is already up-to-date!\n"
     ]
    }
   ],
   "source": [
    "# import libraries\n",
    "import pandas as pd\n",
    "import sqlalchemy\n",
    "\n",
    "import re\n",
    "import nltk\n",
    "nltk.download('punkt')\n",
    "nltk.download('stopwords')\n",
    "nltk.download('wordnet')\n",
    "from nltk.corpus import stopwords\n",
    "from nltk.stem.wordnet import WordNetLemmatizer\n",
    "\n",
    "from sklearn.pipeline import Pipeline\n",
    "\n",
    "from sklearn.feature_extraction.text import CountVectorizer\n",
    "from sklearn.feature_extraction.text import TfidfTransformer\n",
    "from sklearn.ensemble import RandomForestClassifier\n",
    "from sklearn.multioutput import MultiOutputClassifier\n",
    "\n",
    "from sklearn.model_selection import train_test_split, GridSearchCV\n",
    "\n",
    "from sklearn.metrics import classification_report\n",
    "\n",
    "import pickle"
   ]
  },
  {
   "cell_type": "code",
   "execution_count": 215,
   "metadata": {},
   "outputs": [
    {
     "data": {
      "text/plain": [
       "0    Weather update - a cold front from Cuba that c...\n",
       "1              Is the Hurricane over or is it not over\n",
       "2                      Looking for someone but no name\n",
       "3    UN reports Leogane 80-90 destroyed. Only Hospi...\n",
       "4    says: west side of Haiti, rest of the country ...\n",
       "Name: message, dtype: object"
      ]
     },
     "execution_count": 215,
     "metadata": {},
     "output_type": "execute_result"
    }
   ],
   "source": [
    "# load data from database\n",
    "engine = sqlalchemy.create_engine('sqlite:///Phoebe_database.db')\n",
    "df = pd.read_sql_table('categorised_messages_v5', engine)\n",
    "\n",
    "X = df['message']\n",
    "Y = df.iloc[: , 4:]\n",
    "X.head()"
   ]
  },
  {
   "cell_type": "markdown",
   "metadata": {},
   "source": [
    "### 2. Write a tokenization function to process your text data"
   ]
  },
  {
   "cell_type": "code",
   "execution_count": 216,
   "metadata": {},
   "outputs": [],
   "source": [
    "def tokenize(text):\n",
    "    text = re.sub(r\"[^a-zA-Z0-9]\", \" \", text.lower())\n",
    "    words = word_tokenize(text)\n",
    "    words = [w for w in words if w not in stopwords.words(\"english\")]\n",
    "    lemmed_words = [WordNetLemmatizer().lemmatize(w) for w in words]\n",
    "    return lemmed_words"
   ]
  },
  {
   "cell_type": "markdown",
   "metadata": {},
   "source": [
    "### 3. Build a machine learning pipeline\n",
    "This machine pipeline should take in the `message` column as input and output classification results on the other 36 categories in the dataset. You may find the [MultiOutputClassifier](http://scikit-learn.org/stable/modules/generated/sklearn.multioutput.MultiOutputClassifier.html) helpful for predicting multiple target variables."
   ]
  },
  {
   "cell_type": "code",
   "execution_count": 217,
   "metadata": {},
   "outputs": [],
   "source": [
    "pipeline = Pipeline([\n",
    "        ('vect', CountVectorizer(tokenizer=tokenize)),\n",
    "        ('tfidf', TfidfTransformer()),\n",
    "        ('clf', MultiOutputClassifier(RandomForestClassifier(), n_jobs=-1))\n",
    "        ])"
   ]
  },
  {
   "cell_type": "markdown",
   "metadata": {},
   "source": [
    "### 4. Train pipeline\n",
    "- Split data into train and test sets\n",
    "- Train pipeline"
   ]
  },
  {
   "cell_type": "code",
   "execution_count": 218,
   "metadata": {},
   "outputs": [
    {
     "data": {
      "text/plain": [
       "Pipeline(memory=None,\n",
       "     steps=[('vect', CountVectorizer(analyzer='word', binary=False, decode_error='strict',\n",
       "        dtype=<class 'numpy.int64'>, encoding='utf-8', input='content',\n",
       "        lowercase=True, max_df=1.0, max_features=None, min_df=1,\n",
       "        ngram_range=(1, 1), preprocessor=None, stop_words=None,\n",
       "        strip...ob_score=False, random_state=None, verbose=0,\n",
       "            warm_start=False),\n",
       "           n_jobs=-1))])"
      ]
     },
     "execution_count": 218,
     "metadata": {},
     "output_type": "execute_result"
    }
   ],
   "source": [
    "X_train, X_test, Y_train, Y_test = train_test_split(X, Y, test_size =0.2)\n",
    "pipeline.fit(X_train, Y_train)"
   ]
  },
  {
   "cell_type": "markdown",
   "metadata": {},
   "source": [
    "### 5. Test your model\n",
    "Report the f1 score, precision and recall for each output category of the dataset. You can do this by iterating through the columns and calling sklearn's `classification_report` on each."
   ]
  },
  {
   "cell_type": "code",
   "execution_count": 219,
   "metadata": {},
   "outputs": [],
   "source": [
    "predictions = pipeline.predict(X_test)"
   ]
  },
  {
   "cell_type": "code",
   "execution_count": 220,
   "metadata": {},
   "outputs": [
    {
     "name": "stdout",
     "output_type": "stream",
     "text": [
      "related              precision    recall  f1-score   support\n",
      "\n",
      "          0       0.65      0.49      0.56      1213\n",
      "          1       0.85      0.91      0.88      3993\n",
      "          2       0.22      0.37      0.27        38\n",
      "\n",
      "avg / total       0.80      0.81      0.80      5244\n",
      "\n",
      "request              precision    recall  f1-score   support\n",
      "\n",
      "          0       0.90      0.98      0.94      4338\n",
      "          1       0.81      0.47      0.59       906\n",
      "\n",
      "avg / total       0.88      0.89      0.88      5244\n",
      "\n",
      "offer              precision    recall  f1-score   support\n",
      "\n",
      "          0       0.99      1.00      1.00      5213\n",
      "          1       0.00      0.00      0.00        31\n",
      "\n",
      "avg / total       0.99      0.99      0.99      5244\n",
      "\n",
      "aid_related              precision    recall  f1-score   support\n",
      "\n",
      "          0       0.75      0.86      0.80      3069\n",
      "          1       0.75      0.60      0.67      2175\n",
      "\n",
      "avg / total       0.75      0.75      0.75      5244\n",
      "\n",
      "medical_help              precision    recall  f1-score   support\n",
      "\n",
      "          0       0.93      1.00      0.96      4844\n",
      "          1       0.60      0.08      0.14       400\n",
      "\n",
      "avg / total       0.90      0.93      0.90      5244\n",
      "\n",
      "medical_products              precision    recall  f1-score   support\n",
      "\n",
      "          0       0.96      1.00      0.98      4991\n",
      "          1       0.81      0.17      0.28       253\n",
      "\n",
      "avg / total       0.95      0.96      0.94      5244\n",
      "\n"
     ]
    },
    {
     "name": "stderr",
     "output_type": "stream",
     "text": [
      "/opt/conda/lib/python3.6/site-packages/sklearn/metrics/classification.py:1135: UndefinedMetricWarning: Precision and F-score are ill-defined and being set to 0.0 in labels with no predicted samples.\n",
      "  'precision', 'predicted', average, warn_for)\n"
     ]
    },
    {
     "name": "stdout",
     "output_type": "stream",
     "text": [
      "search_and_rescue              precision    recall  f1-score   support\n",
      "\n",
      "          0       0.97      1.00      0.99      5093\n",
      "          1       0.42      0.03      0.06       151\n",
      "\n",
      "avg / total       0.96      0.97      0.96      5244\n",
      "\n",
      "security              precision    recall  f1-score   support\n",
      "\n",
      "          0       0.98      1.00      0.99      5153\n",
      "          1       0.25      0.01      0.02        91\n",
      "\n",
      "avg / total       0.97      0.98      0.97      5244\n",
      "\n",
      "military              precision    recall  f1-score   support\n",
      "\n",
      "          0       0.97      1.00      0.98      5078\n",
      "          1       0.49      0.10      0.17       166\n",
      "\n",
      "avg / total       0.96      0.97      0.96      5244\n",
      "\n",
      "child_alone              precision    recall  f1-score   support\n",
      "\n",
      "          0       1.00      1.00      1.00      5244\n",
      "\n",
      "avg / total       1.00      1.00      1.00      5244\n",
      "\n",
      "water              precision    recall  f1-score   support\n",
      "\n",
      "          0       0.95      1.00      0.97      4919\n",
      "          1       0.79      0.28      0.41       325\n",
      "\n",
      "avg / total       0.94      0.95      0.94      5244\n",
      "\n",
      "food              precision    recall  f1-score   support\n",
      "\n",
      "          0       0.94      0.99      0.96      4651\n",
      "          1       0.87      0.51      0.64       593\n",
      "\n",
      "avg / total       0.93      0.94      0.93      5244\n",
      "\n",
      "shelter              precision    recall  f1-score   support\n",
      "\n",
      "          0       0.94      0.99      0.96      4782\n",
      "          1       0.83      0.31      0.45       462\n",
      "\n",
      "avg / total       0.93      0.93      0.92      5244\n",
      "\n",
      "clothing              precision    recall  f1-score   support\n",
      "\n",
      "          0       0.99      1.00      0.99      5173\n",
      "          1       0.80      0.11      0.20        71\n",
      "\n",
      "avg / total       0.99      0.99      0.98      5244\n",
      "\n",
      "money              precision    recall  f1-score   support\n",
      "\n",
      "          0       0.98      1.00      0.99      5124\n",
      "          1       0.75      0.05      0.09       120\n",
      "\n",
      "avg / total       0.97      0.98      0.97      5244\n",
      "\n",
      "missing_people              precision    recall  f1-score   support\n",
      "\n",
      "          0       0.99      1.00      0.99      5173\n",
      "          1       0.00      0.00      0.00        71\n",
      "\n",
      "avg / total       0.97      0.99      0.98      5244\n",
      "\n",
      "refugees              precision    recall  f1-score   support\n",
      "\n",
      "          0       0.97      1.00      0.98      5082\n",
      "          1       0.77      0.06      0.11       162\n",
      "\n",
      "avg / total       0.96      0.97      0.96      5244\n",
      "\n",
      "death              precision    recall  f1-score   support\n",
      "\n",
      "          0       0.97      1.00      0.98      5031\n",
      "          1       0.72      0.18      0.29       213\n",
      "\n",
      "avg / total       0.96      0.96      0.95      5244\n",
      "\n",
      "other_aid              precision    recall  f1-score   support\n",
      "\n",
      "          0       0.87      0.99      0.93      4548\n",
      "          1       0.54      0.06      0.11       696\n",
      "\n",
      "avg / total       0.83      0.87      0.82      5244\n",
      "\n",
      "infrastructure_related              precision    recall  f1-score   support\n",
      "\n",
      "          0       0.94      1.00      0.97      4904\n",
      "          1       0.36      0.01      0.02       340\n",
      "\n",
      "avg / total       0.90      0.93      0.90      5244\n",
      "\n",
      "transport              precision    recall  f1-score   support\n",
      "\n",
      "          0       0.96      1.00      0.98      4997\n",
      "          1       0.63      0.07      0.12       247\n",
      "\n",
      "avg / total       0.94      0.95      0.94      5244\n",
      "\n",
      "buildings              precision    recall  f1-score   support\n",
      "\n",
      "          0       0.96      1.00      0.98      4976\n",
      "          1       0.76      0.17      0.28       268\n",
      "\n",
      "avg / total       0.95      0.95      0.94      5244\n",
      "\n",
      "electricity              precision    recall  f1-score   support\n",
      "\n",
      "          0       0.98      1.00      0.99      5154\n",
      "          1       0.56      0.06      0.10        90\n",
      "\n",
      "avg / total       0.98      0.98      0.98      5244\n",
      "\n",
      "tools              precision    recall  f1-score   support\n",
      "\n",
      "          0       0.99      1.00      1.00      5207\n",
      "          1       0.00      0.00      0.00        37\n",
      "\n",
      "avg / total       0.99      0.99      0.99      5244\n",
      "\n",
      "hospitals              precision    recall  f1-score   support\n",
      "\n",
      "          0       0.99      1.00      0.99      5183\n",
      "          1       0.00      0.00      0.00        61\n",
      "\n",
      "avg / total       0.98      0.99      0.98      5244\n",
      "\n",
      "shops              precision    recall  f1-score   support\n",
      "\n",
      "          0       1.00      1.00      1.00      5228\n",
      "          1       0.00      0.00      0.00        16\n",
      "\n",
      "avg / total       0.99      1.00      1.00      5244\n",
      "\n",
      "aid_centers              precision    recall  f1-score   support\n",
      "\n",
      "          0       0.99      1.00      0.99      5173\n",
      "          1       0.00      0.00      0.00        71\n",
      "\n",
      "avg / total       0.97      0.99      0.98      5244\n",
      "\n",
      "other_infrastructure              precision    recall  f1-score   support\n",
      "\n",
      "          0       0.96      1.00      0.98      5019\n",
      "          1       0.20      0.00      0.01       225\n",
      "\n",
      "avg / total       0.92      0.96      0.94      5244\n",
      "\n",
      "weather_related              precision    recall  f1-score   support\n",
      "\n",
      "          0       0.87      0.96      0.91      3835\n",
      "          1       0.84      0.62      0.72      1409\n",
      "\n",
      "avg / total       0.86      0.87      0.86      5244\n",
      "\n",
      "floods              precision    recall  f1-score   support\n",
      "\n",
      "          0       0.94      1.00      0.97      4810\n",
      "          1       0.86      0.32      0.47       434\n",
      "\n",
      "avg / total       0.94      0.94      0.93      5244\n",
      "\n",
      "storm              precision    recall  f1-score   support\n",
      "\n",
      "          0       0.93      0.99      0.96      4754\n",
      "          1       0.74      0.33      0.45       490\n",
      "\n",
      "avg / total       0.92      0.93      0.91      5244\n",
      "\n",
      "fire              precision    recall  f1-score   support\n",
      "\n",
      "          0       0.99      1.00      1.00      5200\n",
      "          1       0.00      0.00      0.00        44\n",
      "\n",
      "avg / total       0.98      0.99      0.99      5244\n",
      "\n",
      "earthquake              precision    recall  f1-score   support\n",
      "\n",
      "          0       0.98      0.99      0.98      4781\n",
      "          1       0.90      0.76      0.82       463\n",
      "\n",
      "avg / total       0.97      0.97      0.97      5244\n",
      "\n",
      "cold              precision    recall  f1-score   support\n",
      "\n",
      "          0       0.99      1.00      0.99      5161\n",
      "          1       0.56      0.11      0.18        83\n",
      "\n",
      "avg / total       0.98      0.98      0.98      5244\n",
      "\n",
      "other_weather              precision    recall  f1-score   support\n",
      "\n",
      "          0       0.95      1.00      0.97      4971\n",
      "          1       0.59      0.05      0.09       273\n",
      "\n",
      "avg / total       0.93      0.95      0.93      5244\n",
      "\n",
      "direct_report              precision    recall  f1-score   support\n",
      "\n",
      "          0       0.85      0.97      0.91      4225\n",
      "          1       0.73      0.32      0.44      1019\n",
      "\n",
      "avg / total       0.83      0.84      0.82      5244\n",
      "\n"
     ]
    }
   ],
   "source": [
    "for i in range(len(Y_test.columns)):\n",
    "    print(Y_test.columns[i], classification_report(Y_test.iloc[:, i], predictions[:, i]))"
   ]
  },
  {
   "cell_type": "markdown",
   "metadata": {},
   "source": [
    "### 6. Improve your model\n",
    "Use grid search to find better parameters. "
   ]
  },
  {
   "cell_type": "code",
   "execution_count": 221,
   "metadata": {},
   "outputs": [
    {
     "data": {
      "text/plain": [
       "{'memory': None,\n",
       " 'steps': [('vect',\n",
       "   CountVectorizer(analyzer='word', binary=False, decode_error='strict',\n",
       "           dtype=<class 'numpy.int64'>, encoding='utf-8', input='content',\n",
       "           lowercase=True, max_df=1.0, max_features=None, min_df=1,\n",
       "           ngram_range=(1, 1), preprocessor=None, stop_words=None,\n",
       "           strip_accents=None, token_pattern='(?u)\\\\b\\\\w\\\\w+\\\\b',\n",
       "           tokenizer=<function tokenize at 0x7ff5fff9a1e0>, vocabulary=None)),\n",
       "  ('tfidf',\n",
       "   TfidfTransformer(norm='l2', smooth_idf=True, sublinear_tf=False, use_idf=True)),\n",
       "  ('clf',\n",
       "   MultiOutputClassifier(estimator=RandomForestClassifier(bootstrap=True, class_weight=None, criterion='gini',\n",
       "               max_depth=None, max_features='auto', max_leaf_nodes=None,\n",
       "               min_impurity_decrease=0.0, min_impurity_split=None,\n",
       "               min_samples_leaf=1, min_samples_split=2,\n",
       "               min_weight_fraction_leaf=0.0, n_estimators=10, n_jobs=1,\n",
       "               oob_score=False, random_state=None, verbose=0,\n",
       "               warm_start=False),\n",
       "              n_jobs=-1))],\n",
       " 'vect': CountVectorizer(analyzer='word', binary=False, decode_error='strict',\n",
       "         dtype=<class 'numpy.int64'>, encoding='utf-8', input='content',\n",
       "         lowercase=True, max_df=1.0, max_features=None, min_df=1,\n",
       "         ngram_range=(1, 1), preprocessor=None, stop_words=None,\n",
       "         strip_accents=None, token_pattern='(?u)\\\\b\\\\w\\\\w+\\\\b',\n",
       "         tokenizer=<function tokenize at 0x7ff5fff9a1e0>, vocabulary=None),\n",
       " 'tfidf': TfidfTransformer(norm='l2', smooth_idf=True, sublinear_tf=False, use_idf=True),\n",
       " 'clf': MultiOutputClassifier(estimator=RandomForestClassifier(bootstrap=True, class_weight=None, criterion='gini',\n",
       "             max_depth=None, max_features='auto', max_leaf_nodes=None,\n",
       "             min_impurity_decrease=0.0, min_impurity_split=None,\n",
       "             min_samples_leaf=1, min_samples_split=2,\n",
       "             min_weight_fraction_leaf=0.0, n_estimators=10, n_jobs=1,\n",
       "             oob_score=False, random_state=None, verbose=0,\n",
       "             warm_start=False),\n",
       "            n_jobs=-1),\n",
       " 'vect__analyzer': 'word',\n",
       " 'vect__binary': False,\n",
       " 'vect__decode_error': 'strict',\n",
       " 'vect__dtype': numpy.int64,\n",
       " 'vect__encoding': 'utf-8',\n",
       " 'vect__input': 'content',\n",
       " 'vect__lowercase': True,\n",
       " 'vect__max_df': 1.0,\n",
       " 'vect__max_features': None,\n",
       " 'vect__min_df': 1,\n",
       " 'vect__ngram_range': (1, 1),\n",
       " 'vect__preprocessor': None,\n",
       " 'vect__stop_words': None,\n",
       " 'vect__strip_accents': None,\n",
       " 'vect__token_pattern': '(?u)\\\\b\\\\w\\\\w+\\\\b',\n",
       " 'vect__tokenizer': <function __main__.tokenize(text)>,\n",
       " 'vect__vocabulary': None,\n",
       " 'tfidf__norm': 'l2',\n",
       " 'tfidf__smooth_idf': True,\n",
       " 'tfidf__sublinear_tf': False,\n",
       " 'tfidf__use_idf': True,\n",
       " 'clf__estimator__bootstrap': True,\n",
       " 'clf__estimator__class_weight': None,\n",
       " 'clf__estimator__criterion': 'gini',\n",
       " 'clf__estimator__max_depth': None,\n",
       " 'clf__estimator__max_features': 'auto',\n",
       " 'clf__estimator__max_leaf_nodes': None,\n",
       " 'clf__estimator__min_impurity_decrease': 0.0,\n",
       " 'clf__estimator__min_impurity_split': None,\n",
       " 'clf__estimator__min_samples_leaf': 1,\n",
       " 'clf__estimator__min_samples_split': 2,\n",
       " 'clf__estimator__min_weight_fraction_leaf': 0.0,\n",
       " 'clf__estimator__n_estimators': 10,\n",
       " 'clf__estimator__n_jobs': 1,\n",
       " 'clf__estimator__oob_score': False,\n",
       " 'clf__estimator__random_state': None,\n",
       " 'clf__estimator__verbose': 0,\n",
       " 'clf__estimator__warm_start': False,\n",
       " 'clf__estimator': RandomForestClassifier(bootstrap=True, class_weight=None, criterion='gini',\n",
       "             max_depth=None, max_features='auto', max_leaf_nodes=None,\n",
       "             min_impurity_decrease=0.0, min_impurity_split=None,\n",
       "             min_samples_leaf=1, min_samples_split=2,\n",
       "             min_weight_fraction_leaf=0.0, n_estimators=10, n_jobs=1,\n",
       "             oob_score=False, random_state=None, verbose=0,\n",
       "             warm_start=False),\n",
       " 'clf__n_jobs': -1}"
      ]
     },
     "execution_count": 221,
     "metadata": {},
     "output_type": "execute_result"
    }
   ],
   "source": [
    "pipeline.get_params() "
   ]
  },
  {
   "cell_type": "code",
   "execution_count": 211,
   "metadata": {},
   "outputs": [],
   "source": [
    "# parameters = {\n",
    "#     'clf__estimator__n_estimators': [1, 2],\n",
    "#     'clf__estimator__min_samples_leaf':[1, 2]\n",
    "# }\n",
    "\n",
    "# cv = GridSearchCV(pipeline, param_grid=parameters)"
   ]
  },
  {
   "cell_type": "markdown",
   "metadata": {},
   "source": [
    "### 7. Test your model\n",
    "Show the accuracy, precision, and recall of the tuned model.  \n",
    "\n",
    "Since this project focuses on code quality, process, and  pipelines, there is no minimum performance metric needed to pass. However, make sure to fine tune your models for accuracy, precision and recall to make your project stand out - especially for your portfolio!"
   ]
  },
  {
   "cell_type": "code",
   "execution_count": null,
   "metadata": {},
   "outputs": [],
   "source": [
    "# cv.fit(X_train, Y_train)"
   ]
  },
  {
   "cell_type": "code",
   "execution_count": null,
   "metadata": {},
   "outputs": [],
   "source": [
    "# predictions.tuned = cv.predict(X_test)"
   ]
  },
  {
   "cell_type": "markdown",
   "metadata": {},
   "source": [
    "### 8. Try improving your model further. Here are a few ideas:\n",
    "* try other machine learning algorithms\n",
    "* add other features besides the TF-IDF"
   ]
  },
  {
   "cell_type": "code",
   "execution_count": null,
   "metadata": {},
   "outputs": [],
   "source": []
  },
  {
   "cell_type": "markdown",
   "metadata": {},
   "source": [
    "### 9. Export your model as a pickle file"
   ]
  },
  {
   "cell_type": "code",
   "execution_count": 222,
   "metadata": {},
   "outputs": [],
   "source": [
    "filename = 'final_model.pkl'\n",
    "pickle.dump(pipeline, open(filename, 'wb'))"
   ]
  },
  {
   "cell_type": "markdown",
   "metadata": {},
   "source": [
    "### 10. Use this notebook to complete `train.py`\n",
    "Use the template file attached in the Resources folder to write a script that runs the steps above to create a database and export a model based on a new dataset specified by the user."
   ]
  },
  {
   "cell_type": "code",
   "execution_count": null,
   "metadata": {},
   "outputs": [],
   "source": []
  }
 ],
 "metadata": {
  "kernelspec": {
   "display_name": "Python 3",
   "language": "python",
   "name": "python3"
  },
  "language_info": {
   "codemirror_mode": {
    "name": "ipython",
    "version": 3
   },
   "file_extension": ".py",
   "mimetype": "text/x-python",
   "name": "python",
   "nbconvert_exporter": "python",
   "pygments_lexer": "ipython3",
   "version": "3.6.3"
  }
 },
 "nbformat": 4,
 "nbformat_minor": 2
}
